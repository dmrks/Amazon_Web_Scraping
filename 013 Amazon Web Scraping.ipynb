{
 "cells": [
  {
   "cell_type": "markdown",
   "id": "bdf2b2ca",
   "metadata": {},
   "source": [
    "# Amazon Web Scraping Using Python"
   ]
  },
  {
   "cell_type": "code",
   "execution_count": null,
   "id": "11e6567a",
   "metadata": {},
   "outputs": [],
   "source": [
    "#import libaries\n",
    "\n",
    "from bs4 import BeautifulSoup\n",
    "import requests\n",
    "import smtplib\n",
    "import time\n",
    "import datetime\n",
    "import re\n",
    "from urllib.parse import urlparse\n",
    "import csv\n",
    "import pandas as pd"
   ]
  },
  {
   "cell_type": "code",
   "execution_count": null,
   "id": "aa760210",
   "metadata": {},
   "outputs": [],
   "source": [
    "#connect to Website + Indentify Host\n",
    "URL = \"https://www.amazon.de/Furzkissen-Poo-poo-Pupskissen-Scherzartikel/dp/B0034Z9LGW/ref=sr_1_9?__mk_de_DE=%C3%85M%C3%85%C5%BD%C3%95%C3%91&crid=235LNXQJUAXXA&keywords=pupskissen&qid=1685385681&sprefix=pupskissen%2Caps%2C83&sr=8-9\"\n",
    "headers = {\"User-Agent\": \"Mozilla/5.0 (Macintosh; Intel Mac OS X 10_15_7) AppleWebKit/537.36 (KHTML, like Gecko) Chrome/113.0.0.0 Safari/537.36\"} \n",
    "page = requests.get(URL, headers=headers)\n",
    "urlparse(\"scheme://netloc/path;parameters?query#fragment\")\n",
    "o = urlparse(URL)\n",
    "\n",
    "soup1 = BeautifulSoup(page.content, \"html.parser\")\n",
    "\n",
    "soup2 = BeautifulSoup(soup1.prettify(), \"html.parser\")\n",
    "\n",
    "#Get Specific Article and Price\n",
    "\n",
    "title = soup2.find(id='productTitle').get_text()\n",
    "tag = soup2.find('span',class_=\"a-offscreen\")\n",
    "for i in tag: \n",
    "    price=i.text\n",
    "    \n",
    "price_strip = price.strip()[:-1]\n",
    "title_strip = title.strip()\n",
    "\n",
    "print(f'Host: {o.hostname}')\n",
    "print(f'Article: {title_strip}')\n",
    "print(f'Price in Euro: {price_strip}')\n"
   ]
  },
  {
   "cell_type": "code",
   "execution_count": null,
   "id": "38f2bc36",
   "metadata": {},
   "outputs": [],
   "source": [
    "#today = datetime.date.today()\n",
    "#header = [\"Hostname\",\"Title\", \"Price\",\"Date\"]\n",
    "#data = [o.hostname,title_strip,price_strip,today]"
   ]
  },
  {
   "cell_type": "code",
   "execution_count": null,
   "id": "80311490",
   "metadata": {},
   "outputs": [],
   "source": [
    "#with open (\"AmazonWebScraperDataset.csv\",\"w\", newline=\"\",encoding = \"UTF8\") as f:\n",
    "    #writer = csv.writer(f)\n",
    "    #writer.writerow(header)\n",
    "    #writer.writerow(data)"
   ]
  },
  {
   "cell_type": "code",
   "execution_count": null,
   "id": "e3d66207",
   "metadata": {},
   "outputs": [],
   "source": [
    "#df = pd.read_csv(r'/Users/marku/Downloads/AmazonWebScraperDataset.csv')\n",
    "#print(df)\n"
   ]
  },
  {
   "cell_type": "code",
   "execution_count": null,
   "id": "3fef21b7",
   "metadata": {},
   "outputs": [],
   "source": [
    "#with open (\"AmazonWebScraperDataset.csv\",\"a+\", newline=\"\",encoding = \"UTF8\") as f:\n",
    "    #writer = csv.writer(f)\n",
    "    #writer.writerow(data)"
   ]
  },
  {
   "cell_type": "code",
   "execution_count": null,
   "id": "fbacb14d",
   "metadata": {},
   "outputs": [],
   "source": [
    "# put it in function in order to be repeated everyday\n",
    "\n",
    "def check_price():\n",
    "    #connect to Website + Indentify Host\n",
    "    URL = \"https://www.amazon.de/Furzkissen-Poo-poo-Pupskissen-Scherzartikel/dp/B0034Z9LGW/ref=sr_1_9?__mk_de_DE=%C3%85M%C3%85%C5%BD%C3%95%C3%91&crid=235LNXQJUAXXA&keywords=pupskissen&qid=1685385681&sprefix=pupskissen%2Caps%2C83&sr=8-9\"\n",
    "    headers = {\"User-Agent\": \"Mozilla/5.0 (Macintosh; Intel Mac OS X 10_15_7) AppleWebKit/537.36 (KHTML, like Gecko) Chrome/113.0.0.0 Safari/537.36\"} \n",
    "    page = requests.get(URL, headers=headers)\n",
    "    urlparse(\"scheme://netloc/path;parameters?query#fragment\")\n",
    "    o = urlparse(URL)\n",
    "    \n",
    "    soup1 = BeautifulSoup(page.content, \"html.parser\")\n",
    "    soup2 = BeautifulSoup(soup1.prettify(), \"html.parser\")\n",
    "    \n",
    "    #Get Specific Article and Price\n",
    "    title = soup2.find(id='productTitle').get_text()\n",
    "    tag = soup2.find('span',class_=\"a-offscreen\")\n",
    "    for i in tag: \n",
    "        price=i.text\n",
    "    \n",
    "    price_strip = price.strip()[:-1]\n",
    "    title_strip = title.strip()\n",
    "    \n",
    "    today = datetime.date.today()\n",
    "    header = [\"Hostname\",\"Title\", \"Price\",\"Date\"]\n",
    "    data = [o.hostname,title_strip,price_strip,today]\n",
    "    \n",
    "    #Append it to a csv-File\n",
    "    \n",
    "    with open (\"AmazonWebScraperDataset.csv\",\"a+\", newline=\"\",encoding = \"UTF8\") as f:\n",
    "        writer = csv.writer(f)\n",
    "        writer.writerow(data)\n",
    "\n",
    "    "
   ]
  },
  {
   "cell_type": "code",
   "execution_count": null,
   "id": "4c2a62a8",
   "metadata": {},
   "outputs": [],
   "source": [
    "# Do it every day\n",
    "while(True):\n",
    "    check_price()\n",
    "    time.sleep(86400)"
   ]
  }
 ],
 "metadata": {
  "kernelspec": {
   "display_name": "Python 3 (ipykernel)",
   "language": "python",
   "name": "python3"
  },
  "language_info": {
   "codemirror_mode": {
    "name": "ipython",
    "version": 3
   },
   "file_extension": ".py",
   "mimetype": "text/x-python",
   "name": "python",
   "nbconvert_exporter": "python",
   "pygments_lexer": "ipython3",
   "version": "3.10.9"
  }
 },
 "nbformat": 4,
 "nbformat_minor": 5
}
